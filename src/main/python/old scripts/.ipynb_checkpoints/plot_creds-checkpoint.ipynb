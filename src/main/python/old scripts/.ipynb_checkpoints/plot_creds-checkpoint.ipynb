{
 "cells": [
  {
   "cell_type": "code",
   "execution_count": null,
   "metadata": {},
   "outputs": [],
   "source": [
    "import csv\n",
    "import numpy as np\n",
    "import matplotlib.pyplot as plt"
   ]
  },
  {
   "cell_type": "code",
   "execution_count": null,
   "metadata": {},
   "outputs": [],
   "source": [
    "# set to: true - to read results for fibre stiffness model run\n",
    "#         false - to read results for truss model run\n",
    "fibre_stiffness = True\n",
    "\n",
    "np.set_printoptions(threshold=np.inf)\n",
    "\n",
    "#### Read csv file\n",
    "print('Reading csv file')\n",
    "filepath = 'C:\\\\SEAK Lab\\\\SEAK Lab Github\\\\KD3M3\\\\Truss_AOS\\\\result\\\\AOS MOEA Runs\\\\'\n",
    "\n",
    "if fibre_stiffness:\n",
    "    filename = 'Fibre Stiffness code run results\\\\Feas and Stab False\\\\constraint_adaptive0_credit.csv'\n",
    "else: \n",
    "    filename = 'Truss code run results\\\\Feas and Stab False\\\\constraint_adaptive0_credit.csv' \n",
    "\n",
    "full_filepath = filepath + filename\n",
    "\n",
    "with open(full_filepath,newline='') as csvfile:\n",
    "    data = [row for row in csv.reader(csvfile)]\n",
    "    iter_num_operator1 = list(map(float,data[0][1:]))\n",
    "    credit_operator1 = list(map(float,data[1][1:]))\n",
    "    iter_num_operator2 = list(map(float,data[2][1:]))\n",
    "    credit_operator2 = list(map(float,data[3][1:]))\n",
    "    iter_num_operator3 = list(map(float,data[4][1:]))\n",
    "    credit_operator3 = list(map(float,data[5][1:]))\n",
    "    \n",
    "#print(credit_operator3)"
   ]
  },
  {
   "cell_type": "code",
   "execution_count": null,
   "metadata": {},
   "outputs": [],
   "source": [
    "#operators_list = ['Remove_intersection','One_point_crossover_and_bitflip_mutation','Add_member']\n",
    "\n",
    "#### Create full credits array for each operator with zeros credits for iterations when the operator is not chosen \n",
    "print('Creating full credits arrays')\n",
    "credits_full_operator1 = np.zeros(9900)\n",
    "credits_full_operator2 = np.zeros(9900)\n",
    "credits_full_operator3 = np.zeros(9900)\n",
    "index_count = 0\n",
    "for i in range(100,10000):\n",
    "    if i in iter_num_operator1:\n",
    "        credits_full_operator1[index_count] = credit_operator1[iter_num_operator1.index(i)]\n",
    "    elif i in iter_num_operator2:\n",
    "        credits_full_operator2[index_count] = credit_operator2[iter_num_operator2.index(i)]\n",
    "    elif i in iter_num_operator3:\n",
    "        credits_full_operator3[index_count] = credit_operator3[iter_num_operator3.index(i)]\n",
    "    index_count += 1\n",
    "    \n",
    "iter_num_array = np.arange(100,10000,1)\n",
    "\n",
    "#### Plot credits for each operator\n",
    "print('Plotting')\n",
    "plt.figure()\n",
    "#plt.plot(iter_num_operator1,credit_operator1,'-b',label='Remove Intersection')\n",
    "plt.plot(iter_num_array,credits_full_operator1,'b*',label='Remove Intersection')\n",
    "#plt.plot(iter_num_operator2,credit_operator2,'-r',label='CrossOver + Mutation')\n",
    "plt.plot(iter_num_array,credits_full_operator2,'ro',label='CrossOver + Mutation')\n",
    "#plt.plot(iter_num_operator3,credit_operator3,'-g',label='Add Member')\n",
    "plt.plot(iter_num_array,credits_full_operator3,'gv',label='Add Member')\n",
    "plt.xlabel('numbet of function evaluations')\n",
    "plt.ylabel('operator credits')\n",
    "plt.legend(loc='upper right')\n",
    "plt.show()"
   ]
  }
 ],
 "metadata": {
  "kernelspec": {
   "display_name": "Python 3",
   "language": "python",
   "name": "python3"
  },
  "language_info": {
   "codemirror_mode": {
    "name": "ipython",
    "version": 3
   },
   "file_extension": ".py",
   "mimetype": "text/x-python",
   "name": "python",
   "nbconvert_exporter": "python",
   "pygments_lexer": "ipython3",
   "version": "3.7.6"
  }
 },
 "nbformat": 4,
 "nbformat_minor": 4
}

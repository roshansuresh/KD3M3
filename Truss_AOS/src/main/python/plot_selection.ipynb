{
 "cells": [
  {
   "cell_type": "code",
   "execution_count": null,
   "metadata": {},
   "outputs": [],
   "source": [
    "import csv\n",
    "import numpy as np\n",
    "import matplotlib.pyplot as plt"
   ]
  },
  {
   "cell_type": "code",
   "execution_count": null,
   "metadata": {},
   "outputs": [],
   "source": [
    "# set to: true - to read results for fibre stiffness model run\n",
    "#         false - to read results for truss model run\n",
    "fibre_stiffness = True\n",
    "\n",
    "#### Read csv file\n",
    "print('Reading csv file')\n",
    "filepath = 'C:\\\\SEAK Lab\\\\SEAK Lab Github\\\\KD3M3\\\\Truss_AOS\\\\result\\\\AOS MOEA Runs\\\\'\n",
    "\n",
    "if fibre_stiffness:\n",
    "    filename = 'Fibre Stiffness code run results\\\\Feas and Stab False\\\\constraint_adaptive0_hist.csv'\n",
    "else: \n",
    "    filename = 'Truss code run results\\\\Feas and Stab False\\\\constraint_adaptive0_hist.csv' \n",
    "\n",
    "full_filepath = filepath + filename\n",
    "\n",
    "with open(full_filepath,newline='') as csvfile:\n",
    "    data = [row for row in csv.reader(csvfile)]\n",
    "    iter_num = np.zeros(len(data))\n",
    "    selected_operators = [\"\" for x in range(len(data))]\n",
    "    for i in range(len(data)):\n",
    "        #print(data[i][0])\n",
    "        iter_num[i] = int(data[i][0])\n",
    "        selected_operators[i] = data[i][1]"
   ]
  },
  {
   "cell_type": "code",
   "execution_count": null,
   "metadata": {},
   "outputs": [],
   "source": [
    "#### Create selection array\n",
    "print('Creating selection array')\n",
    "selection_array = np.zeros(len(selected_operators))\n",
    "index = 0\n",
    "for selection in selected_operators:\n",
    "    if selection == '.RemoveIntersection':\n",
    "        selection_array[index] = 2\n",
    "    elif selection == '.AddMember':\n",
    "        selection_array[index] = 3\n",
    "    else:\n",
    "        selection_array[index] = 1\n",
    "    index += 1\n",
    "    \n",
    "#### Plotting\n",
    "print('Plotting')\n",
    "plt.figure()\n",
    "plt.plot(iter_num,selection_array,'b*')\n",
    "plt.yticks(np.arange(1,4),['Crossover + Mutation','Remove Intersection','Add Member'])\n",
    "plt.xlabel('Iteration Number')\n",
    "plt.title('Selection History')\n",
    "plt.show()"
   ]
  }
 ],
 "metadata": {
  "kernelspec": {
   "display_name": "Python 3",
   "language": "python",
   "name": "python3"
  },
  "language_info": {
   "codemirror_mode": {
    "name": "ipython",
    "version": 3
   },
   "file_extension": ".py",
   "mimetype": "text/x-python",
   "name": "python",
   "nbconvert_exporter": "python",
   "pygments_lexer": "ipython3",
   "version": "3.7.6"
  }
 },
 "nbformat": 4,
 "nbformat_minor": 4
}

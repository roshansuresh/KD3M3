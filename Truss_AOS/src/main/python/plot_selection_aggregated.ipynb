{
 "cells": [
  {
   "cell_type": "code",
   "execution_count": null,
   "metadata": {},
   "outputs": [],
   "source": [
    "import csv\n",
    "import numpy as np\n",
    "import matplotlib.pyplot as plt"
   ]
  },
  {
   "cell_type": "code",
   "execution_count": null,
   "metadata": {},
   "outputs": [],
   "source": [
    "# set to: true - to read results for fibre stiffness model run\n",
    "#         false - to read results for truss model run\n",
    "fibre_stiffness = True\n",
    "\n",
    "#### Define functions\n",
    "def read_csv_file(fib_stiff,run_num):\n",
    "    filepath = 'C:\\\\SEAK Lab\\\\SEAK Lab Github\\\\KD3M3\\\\Truss_AOS\\\\result\\\\AOS MOEA Runs\\\\'\n",
    "\n",
    "    if fib_stiff:\n",
    "        filename = 'Fibre Stiffness code run results\\\\Feas and Stab False\\\\constraint_adaptive' + str(run_num) + '_hist.csv'\n",
    "    else: \n",
    "        filename = 'Truss code run results\\\\Feas and Stab False\\\\constraint_adaptive' + str(run_num) + '_hist.csv' \n",
    "\n",
    "    full_filepath = filepath + filename\n",
    "\n",
    "    with open(full_filepath,newline='') as csvfile:\n",
    "        data = [row for row in csv.reader(csvfile)]\n",
    "        iter_num = np.zeros(len(data))\n",
    "        selected_operators = [\"\" for x in range(len(data))]\n",
    "        for i in range(len(data)):\n",
    "            #print(data[i][0])\n",
    "            iter_num[i] = int(data[i][0])\n",
    "            selected_operators[i] = data[i][1]\n",
    "            \n",
    "    return iter_num, selected_operators\n",
    "\n",
    "def create_selection_array(op_sel):\n",
    "    selection_array = np.zeros(len(op_sel))\n",
    "    index = 0\n",
    "    for selection in op_sel:\n",
    "        if selection == '.RemoveIntersection':\n",
    "            selection_array[index] = 1\n",
    "        elif selection == '.ImproveOrientation':\n",
    "            selection_array[index] = 2\n",
    "        elif selection == '.AddMember':\n",
    "            selection_array[index] = 3\n",
    "        elif selection == '.AddDiagonalMember':\n",
    "            selection_array[index] = 4\n",
    "        index += 1\n",
    "    \n",
    "    return selection_array"
   ]
  },
  {
   "cell_type": "code",
   "execution_count": null,
   "metadata": {},
   "outputs": [],
   "source": [
    "#### Program Operation\n",
    "num_runs = 30\n",
    "selection_dict = {new_list: [] for new_list in range(num_runs)}\n",
    "for i in range(num_runs):\n",
    "    print('Reading and creating selection array for run ' + str(i))\n",
    "    num_iter_i, op_selected_i= read_csv_file(fibre_stiffness, i) \n",
    "    selection_dict[i] = create_selection_array(op_selected_i)\n",
    "    \n",
    "n_datapoints = len(selection_dict[0])\n",
    "op1_selected = np.zeros(n_datapoints)\n",
    "op2_selected = np.zeros(n_datapoints)\n",
    "op3_selected = np.zeros(n_datapoints)\n",
    "\n",
    "print('Computing selection frequencies of each operator')\n",
    "for i in range(n_datapoints):\n",
    "    for j in range(num_runs):\n",
    "        current_selection_array = selection_dict[j]\n",
    "        if current_selection_array[j] == 1:\n",
    "            op1_selected[i] += 1\n",
    "        elif current_selection_array[j] == 2:\n",
    "            op2_selected[i] += 1\n",
    "        elif current_selection_array[j] == 3:\n",
    "            op3_selected[i] += 1\n",
    "            \n",
    "## Plotting\n",
    "print('Plotting')\n",
    "plt.figure()\n",
    "plt.plot(num_iter_i, op1_selected, 'b*', label='Remove Intersection')\n",
    "plt.plot(num_iter_i, op2_selected, 'ro', label='Crossover + Mutation')\n",
    "plt.plot(num_iter_i, op3_selected, 'gv', label='Add Member')\n",
    "plt.xlabel('numbet of function evaluations')\n",
    "plt.ylabel('operator seletion frequency over ' + str(num_runs) + ' runs')\n",
    "plt.legend(loc='upper right')\n",
    "plt.show()"
   ]
  }
 ],
 "metadata": {
  "kernelspec": {
   "display_name": "Python 3",
   "language": "python",
   "name": "python3"
  },
  "language_info": {
   "codemirror_mode": {
    "name": "ipython",
    "version": 3
   },
   "file_extension": ".py",
   "mimetype": "text/x-python",
   "name": "python",
   "nbconvert_exporter": "python",
   "pygments_lexer": "ipython3",
   "version": "3.7.6"
  }
 },
 "nbformat": 4,
 "nbformat_minor": 4
}

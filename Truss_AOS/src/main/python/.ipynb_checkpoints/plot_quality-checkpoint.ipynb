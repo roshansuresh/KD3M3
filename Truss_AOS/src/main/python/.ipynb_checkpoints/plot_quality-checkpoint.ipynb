{
 "cells": [
  {
   "cell_type": "code",
   "execution_count": null,
   "metadata": {},
   "outputs": [],
   "source": [
    "import csv\n",
    "import numpy as np\n",
    "import matplotlib.pyplot as plt"
   ]
  },
  {
   "cell_type": "code",
   "execution_count": null,
   "metadata": {},
   "outputs": [],
   "source": [
    "np.set_printoptions(threshold=np.inf)\n",
    "\n",
    "# set to: true - to read results for fibre stiffness model run\n",
    "#         false - to read results for truss model run\n",
    "fibre_stiffness = True\n",
    "\n",
    "run_number = 0 # starts from 0\n",
    "\n",
    "#### Read csv file\n",
    "print('Reading csv file')\n",
    "filepath = 'C:\\\\SEAK Lab\\\\SEAK Lab Github\\\\KD3M3\\\\Truss_AOS\\\\result\\\\AOS MOEA Runs\\\\'\n",
    "\n",
    "if fibre_stiffness:\n",
    "    filename = 'Feas and Stab False\\\\Fibre Stiffness code run results\\\\constraint_adaptive' + str(run_number) + '_qual.csv'\n",
    "else: \n",
    "    filename = 'Feas and Stab False\\\\Truss code run results\\\\constraint_adaptive' + str(run_number) + '_qual.csv' \n",
    "\n",
    "full_filepath = filepath + filename\n",
    "\n",
    "with open(full_filepath,newline='') as csvfile:\n",
    "    data = [row for row in csv.reader(csvfile)]\n",
    "    if (data[1][0] == '.RemoveIntersection'):\n",
    "        iter_num_operator1 = list(map(float,data[0][1:]))\n",
    "        quality_operator1 = list(map(float,data[1][1:]))\n",
    "        if (data[3][0] == 'OnePointCrossover+BitFlip'):\n",
    "            iter_num_operator2 = list(map(float,data[2][1:]))\n",
    "            quality_operator2 = list(map(float,data[3][1:]))\n",
    "            iter_num_operator3 = list(map(float,data[4][1:]))\n",
    "            quality_operator3 = list(map(float,data[5][1:]))\n",
    "        elif (data[3][0] == '.AddMember'):\n",
    "            iter_num_operator2 = list(map(float,data[4][1:]))\n",
    "            quality_operator2 = list(map(float,data[5][1:]))\n",
    "            iter_num_operator3 = list(map(float,data[2][1:]))\n",
    "            quality_operator3 = list(map(float,data[3][1:]))\n",
    "    elif (data[1][0] == '.AddMember'):\n",
    "        iter_num_operator3 = list(map(float,data[0][1:]))\n",
    "        quality_operator3 = list(map(float,data[1][1:]))\n",
    "        if (data[3][0] == '.RemoveIntersection'):\n",
    "            iter_num_operator1 = list(map(float,data[2][1:]))\n",
    "            quality_operator1 = list(map(float,data[3][1:]))\n",
    "            iter_num_operator2 = list(map(float,data[4][1:]))\n",
    "            quality_operator2 = list(map(float,data[5][1:]))\n",
    "        elif (data[3][0] == 'OnePointCrossover+BitFlip'):\n",
    "            iter_num_operator2 = list(map(float,data[2][1:]))\n",
    "            quality_operator2 = list(map(float,data[3][1:]))\n",
    "            iter_num_operator1 = list(map(float,data[4][1:]))\n",
    "            quality_operator1 = list(map(float,data[5][1:]))\n",
    "    elif (data[1][0] == 'OnePointCrossover+BitFlip'):\n",
    "        iter_num_operator2 = list(map(float,data[0][1:]))\n",
    "        quality_operator2 = list(map(float,data[1][1:]))\n",
    "        if (data[3][0] == '.RemoveIntersection'):\n",
    "            iter_num_operator1 = list(map(float,data[2][1:]))\n",
    "            quality_operator1 = list(map(float,data[3][1:]))\n",
    "            iter_num_operator3 = list(map(float,data[4][1:]))\n",
    "            quality_operator3 = list(map(float,data[5][1:]))\n",
    "        elif (data[3][0] == '.AddMember'):\n",
    "            iter_num_operator3 = list(map(float,data[2][1:]))\n",
    "            quality_operator3 = list(map(float,data[3][1:]))\n",
    "            iter_num_operator1 = list(map(float,data[4][1:]))\n",
    "            quality_operator1 = list(map(float,data[5][1:]))"
   ]
  },
  {
   "cell_type": "code",
   "execution_count": null,
   "metadata": {},
   "outputs": [],
   "source": [
    "#operators_list = ['Remove_intersection','One_point_crossover_and_bitflip_mutation','Add_member']\n",
    "#print(quality_operator1)\n",
    "\n",
    "#### Plot quality for each operator\n",
    "print('Plotting')\n",
    "plt.figure()\n",
    "plt.plot(iter_num_operator1,quality_operator1,'-b',label='Remove Intersection')\n",
    "#plt.plot(iter_num_operator1,quality_operator1,'b*',label='Remove Intersection')\n",
    "#plt.plot(iter_num_operator2,quality_operator2,'-r',label='CrossOver + Mutation')\n",
    "#plt.plot(iter_num_operator2,quality_operator2,'ro',label='CrossOver + Mutation')\n",
    "#plt.plot(iter_num_operator3,quality_operator3,'-g',label='Add Member')\n",
    "#plt.plot(iter_num_operator3,quality_operator3,'gv',label='Add Member')\n",
    "plt.xlabel('numbet of function evaluations')\n",
    "plt.ylabel('operator quality')\n",
    "plt.legend(loc='upper right')\n",
    "plt.show()"
   ]
  },
  {
   "cell_type": "code",
   "execution_count": null,
   "metadata": {},
   "outputs": [],
   "source": []
  }
 ],
 "metadata": {
  "kernelspec": {
   "display_name": "Python 3",
   "language": "python",
   "name": "python3"
  },
  "language_info": {
   "codemirror_mode": {
    "name": "ipython",
    "version": 3
   },
   "file_extension": ".py",
   "mimetype": "text/x-python",
   "name": "python",
   "nbconvert_exporter": "python",
   "pygments_lexer": "ipython3",
   "version": "3.7.6"
  }
 },
 "nbformat": 4,
 "nbformat_minor": 4
}
